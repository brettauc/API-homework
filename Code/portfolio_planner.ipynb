{
 "cells": [
  {
   "cell_type": "markdown",
   "metadata": {},
   "source": [
    "# Retirement Planner\n",
    "\n",
    "---\n",
    "\n",
    "## Environment Setup"
   ]
  },
  {
   "cell_type": "code",
   "execution_count": 2,
   "metadata": {},
   "outputs": [
    {
     "name": "stderr",
     "output_type": "stream",
     "text": [
      "\n",
      "Bad key \"text.kerning_factor\" on line 4 in\n",
      "C:\\Users\\brett\\anaconda3\\envs\\pyvizenv\\lib\\site-packages\\matplotlib\\mpl-data\\stylelib\\_classic_test_patch.mplstyle.\n",
      "You probably need to get an updated matplotlibrc file from\n",
      "http://github.com/matplotlib/matplotlib/blob/master/matplotlibrc.template\n",
      "or from the matplotlib source distribution\n"
     ]
    }
   ],
   "source": [
    "# Import libraries and dependencies\n",
    "import numpy as np\n",
    "import pandas as pd\n",
    "import os\n",
    "from datetime import datetime, timedelta\n",
    "import matplotlib.pyplot as plt\n",
    "import alpaca_trade_api as tradeapi\n",
    "%matplotlib inline"
   ]
  },
  {
   "cell_type": "code",
   "execution_count": 3,
   "metadata": {},
   "outputs": [],
   "source": [
    "# Set the random seed for resutls reproducibility (for testing purposes only)\n",
    "np.random.seed(42)"
   ]
  },
  {
   "cell_type": "markdown",
   "metadata": {},
   "source": [
    "---\n",
    "\n",
    "## Portfolio Planner\n",
    "\n",
    "In this activity, you will use the Alpaca API to grab historical data for a `60/40` portfolio using `SPY` to represent the stock portion and `AGG` to represent the bonds."
   ]
  },
  {
   "cell_type": "code",
   "execution_count": 4,
   "metadata": {},
   "outputs": [],
   "source": [
    "# Load .env enviroment variables\n",
    "from dotenv import load_dotenv\n",
    "load_dotenv(dotenv_path = 'C:/Users/brett/Desktop/FTBC/.env')\n",
    "\n",
    "# Set Alpaca API key and secret\n",
    "alpaca_api_key = os.getenv(\"ALPACA_API_KEY\")\n",
    "alpaca_secret_key = os.getenv(\"ALPACA_SECRET_KEY\")\n",
    "\n",
    "# Create the Alpaca API object\n",
    "api = tradeapi.REST(\n",
    "    alpaca_api_key,\n",
    "    alpaca_secret_key,\n",
    "    api_version=\"v2\")"
   ]
  },
  {
   "cell_type": "markdown",
   "metadata": {},
   "source": [
    "# Data Collection\n",
    "\n",
    "In this step, you will need to use the Alpaca api to fetch closing prices for the `SPY` and `AGG` tickers. Save the results as a pandas DataFrame"
   ]
  },
  {
   "cell_type": "code",
   "execution_count": 5,
   "metadata": {},
   "outputs": [],
   "source": [
    "# Subset your tickers, then pull returns data:\n",
    "# Set the ticker\n",
    "ticker = [\"SPY\", \"AGG\"]\n",
    "\n",
    "# Set timeframe to '1D'\n",
    "timeframe = \"1D\"\n",
    "\n",
    "# Set start and end datetimes of 1 year, between now and 365 days ago.\n",
    "start_date = pd.Timestamp('2019-01-01', tz='America/New_York').isoformat()\n",
    "end_date = pd.Timestamp('2019-12-31', tz='America/New_York').isoformat()\n",
    "\n",
    "# Get 1 year's worth of historical data for SPY and AGG\n",
    "df = api.get_barset(\n",
    "    ticker,\n",
    "    timeframe,\n",
    "    limit=None,\n",
    "    start=start_date,\n",
    "    end=end_date,\n",
    "    after=None,\n",
    "    until=None,\n",
    ").df\n",
    "\n",
    "# Drop unnecessary columns\n",
    "df = df.drop(\n",
    "    columns=['open', 'high', 'low', 'volume'],\n",
    "    level=1\n",
    ")"
   ]
  },
  {
   "cell_type": "code",
   "execution_count": 6,
   "metadata": {},
   "outputs": [
    {
     "data": {
      "text/html": [
       "<div>\n",
       "<style scoped>\n",
       "    .dataframe tbody tr th:only-of-type {\n",
       "        vertical-align: middle;\n",
       "    }\n",
       "\n",
       "    .dataframe tbody tr th {\n",
       "        vertical-align: top;\n",
       "    }\n",
       "\n",
       "    .dataframe thead tr th {\n",
       "        text-align: left;\n",
       "    }\n",
       "\n",
       "    .dataframe thead tr:last-of-type th {\n",
       "        text-align: right;\n",
       "    }\n",
       "</style>\n",
       "<table border=\"1\" class=\"dataframe\">\n",
       "  <thead>\n",
       "    <tr>\n",
       "      <th></th>\n",
       "      <th>AGG</th>\n",
       "      <th>SPY</th>\n",
       "    </tr>\n",
       "    <tr>\n",
       "      <th></th>\n",
       "      <th>close</th>\n",
       "      <th>close</th>\n",
       "    </tr>\n",
       "    <tr>\n",
       "      <th>time</th>\n",
       "      <th></th>\n",
       "      <th></th>\n",
       "    </tr>\n",
       "  </thead>\n",
       "  <tbody>\n",
       "    <tr>\n",
       "      <th>2019-01-02 00:00:00-05:00</th>\n",
       "      <td>106.585</td>\n",
       "      <td>249.89</td>\n",
       "    </tr>\n",
       "    <tr>\n",
       "      <th>2019-01-03 00:00:00-05:00</th>\n",
       "      <td>107.020</td>\n",
       "      <td>244.46</td>\n",
       "    </tr>\n",
       "    <tr>\n",
       "      <th>2019-01-04 00:00:00-05:00</th>\n",
       "      <td>106.695</td>\n",
       "      <td>252.41</td>\n",
       "    </tr>\n",
       "    <tr>\n",
       "      <th>2019-01-07 00:00:00-05:00</th>\n",
       "      <td>106.470</td>\n",
       "      <td>254.40</td>\n",
       "    </tr>\n",
       "    <tr>\n",
       "      <th>2019-01-08 00:00:00-05:00</th>\n",
       "      <td>106.420</td>\n",
       "      <td>256.65</td>\n",
       "    </tr>\n",
       "  </tbody>\n",
       "</table>\n",
       "</div>"
      ],
      "text/plain": [
       "                               AGG     SPY\n",
       "                             close   close\n",
       "time                                      \n",
       "2019-01-02 00:00:00-05:00  106.585  249.89\n",
       "2019-01-03 00:00:00-05:00  107.020  244.46\n",
       "2019-01-04 00:00:00-05:00  106.695  252.41\n",
       "2019-01-07 00:00:00-05:00  106.470  254.40\n",
       "2019-01-08 00:00:00-05:00  106.420  256.65"
      ]
     },
     "execution_count": 6,
     "metadata": {},
     "output_type": "execute_result"
    }
   ],
   "source": [
    "# Display sample data\n",
    "df.head()"
   ]
  },
  {
   "cell_type": "markdown",
   "metadata": {},
   "source": [
    "---\n",
    "\n",
    "## Monte Carlo Simulation\n",
    "\n",
    "In this step, you will run Monte Carlo Simulations for your portfolio to model portfolio performance at different retirement ages. \n",
    "\n",
    "Complete the following steps:\n",
    "\n",
    "1. Calculate the daily returns for the SPY and AGG closing prices.\n",
    "\n",
    "2. Calculate volatility for both the SPY and AGG closing prices.\n",
    "\n",
    "3. Find the last day's closing price for both stocks and save those as variables\n",
    "\n",
    "4. Run a Monte Carlo Simulation of at least `100` iterations and generate at least `30` years of closing prices\n",
    "\n",
    "**Hint:** There are `252` trading days per year, so the number of records to generate for each Monte Carlo run will be `252 days * 30 years`."
   ]
  },
  {
   "cell_type": "code",
   "execution_count": 8,
   "metadata": {},
   "outputs": [
    {
     "data": {
      "text/html": [
       "<div>\n",
       "<style scoped>\n",
       "    .dataframe tbody tr th:only-of-type {\n",
       "        vertical-align: middle;\n",
       "    }\n",
       "\n",
       "    .dataframe tbody tr th {\n",
       "        vertical-align: top;\n",
       "    }\n",
       "\n",
       "    .dataframe thead tr th {\n",
       "        text-align: left;\n",
       "    }\n",
       "\n",
       "    .dataframe thead tr:last-of-type th {\n",
       "        text-align: right;\n",
       "    }\n",
       "</style>\n",
       "<table border=\"1\" class=\"dataframe\">\n",
       "  <thead>\n",
       "    <tr>\n",
       "      <th></th>\n",
       "      <th>AGG</th>\n",
       "      <th>SPY</th>\n",
       "    </tr>\n",
       "    <tr>\n",
       "      <th></th>\n",
       "      <th>close</th>\n",
       "      <th>close</th>\n",
       "    </tr>\n",
       "    <tr>\n",
       "      <th>time</th>\n",
       "      <th></th>\n",
       "      <th></th>\n",
       "    </tr>\n",
       "  </thead>\n",
       "  <tbody>\n",
       "    <tr>\n",
       "      <th>2019-01-02 00:00:00-05:00</th>\n",
       "      <td>NaN</td>\n",
       "      <td>NaN</td>\n",
       "    </tr>\n",
       "    <tr>\n",
       "      <th>2019-01-03 00:00:00-05:00</th>\n",
       "      <td>0.004081</td>\n",
       "      <td>-0.021730</td>\n",
       "    </tr>\n",
       "    <tr>\n",
       "      <th>2019-01-04 00:00:00-05:00</th>\n",
       "      <td>-0.003037</td>\n",
       "      <td>0.032521</td>\n",
       "    </tr>\n",
       "    <tr>\n",
       "      <th>2019-01-07 00:00:00-05:00</th>\n",
       "      <td>-0.002109</td>\n",
       "      <td>0.007884</td>\n",
       "    </tr>\n",
       "    <tr>\n",
       "      <th>2019-01-08 00:00:00-05:00</th>\n",
       "      <td>-0.000470</td>\n",
       "      <td>0.008844</td>\n",
       "    </tr>\n",
       "  </tbody>\n",
       "</table>\n",
       "</div>"
      ],
      "text/plain": [
       "                                AGG       SPY\n",
       "                              close     close\n",
       "time                                         \n",
       "2019-01-02 00:00:00-05:00       NaN       NaN\n",
       "2019-01-03 00:00:00-05:00  0.004081 -0.021730\n",
       "2019-01-04 00:00:00-05:00 -0.003037  0.032521\n",
       "2019-01-07 00:00:00-05:00 -0.002109  0.007884\n",
       "2019-01-08 00:00:00-05:00 -0.000470  0.008844"
      ]
     },
     "execution_count": 8,
     "metadata": {},
     "output_type": "execute_result"
    }
   ],
   "source": [
    "# Calculate the daily roi for the stocks\n",
    "daily_returns = df.pct_change()\n",
    "# Display sample data\n",
    "daily_returns.head()"
   ]
  },
  {
   "cell_type": "code",
   "execution_count": 11,
   "metadata": {},
   "outputs": [
    {
     "data": {
      "text/plain": [
       "0.007820053413439366"
      ]
     },
     "execution_count": 11,
     "metadata": {},
     "output_type": "execute_result"
    }
   ],
   "source": [
    "# Compute daily volatility\n",
    "daily_return_std_dev_agg = daily_returns.std()['AGG']['close']\n",
    "daily_return_std_dev_spy = daily_returns.std()['SPY']['close']\n",
    "daily_return_std_dev_spy"
   ]
  },
  {
   "cell_type": "code",
   "execution_count": 12,
   "metadata": {},
   "outputs": [],
   "source": [
    "# Save the last day's closing price\n",
    "agg_last_price = df['AGG']['close'][-1]\n",
    "spy_last_price = df['SPY']['close'][-1]"
   ]
  },
  {
   "cell_type": "code",
   "execution_count": 13,
   "metadata": {},
   "outputs": [],
   "source": [
    "# Setup the Monte Carlo Parameters\n",
    "# number_simulations = 500\n",
    "# number_records = 252 * 30\n",
    "number_simulations = 100\n",
    "number_records = 252\n",
    "monte_carlo_df = pd.DataFrame()\n",
    "cumulative_portfolio_returns = pd.DataFrame()"
   ]
  },
  {
   "cell_type": "code",
   "execution_count": 14,
   "metadata": {},
   "outputs": [],
   "source": [
    "# Run the Monte Carlo Simulation\n",
    "for sim in range(number_simulations):\n",
    "    \n",
    "    # Initialize the simulated prices list iwth the last closing price\n",
    "    agg_simulated_prices = [agg_last_price]\n",
    "    spy_simulated_prices = [spy_last_price]\n",
    "    \n",
    "    # Simulate returns for 30 years\n",
    "    for rec in range(number_records):\n",
    "        \n",
    "        # Use last price to calculate the simulated price\n",
    "        agg_simulated_price = agg_simulated_prices[-1] * (1 + np.random.normal(\n",
    "            (daily_returns.mean()['AGG']['close']),daily_return_std_dev_agg))\n",
    "        \n",
    "        spy_simulated_price = spy_simulated_prices[-1] * (1 + np.random.normal(\n",
    "            (daily_returns.mean()['SPY']['close']),daily_return_std_dev_spy))\n",
    "        \n",
    "        # Append to list\n",
    "        agg_simulated_prices.append(agg_simulated_price)\n",
    "        spy_simulated_prices.append(spy_simulated_price)\n",
    "        \n",
    "    # Append sim prices to monte_carlo dataframe\n",
    "    monte_carlo_df['AGG Prices'] = pd.Series(agg_simulated_prices)\n",
    "    monte_carlo_df['SPY Prices'] = pd.Series(spy_simulated_prices)\n",
    "    \n",
    "    #Calculate daily returns of the monte_carlo Dataframe\n",
    "    monte_carlo_daily_returns = monte_carlo_df.pct_change()\n",
    "    \n",
    "    # Set weights to SPY: 60% and AGG: 40%\n",
    "    weights = [0.40, 0.60]\n",
    "    \n",
    "    # Apply the weights to the portfolio's simulated daily returns\n",
    "    portfolio_daily_returns = monte_carlo_daily_returns.dot(weights)\n",
    "    \n",
    "    # Calculate cumulated return of simulation\n",
    "    cumulative_portfolio_returns[sim] = (1 + portfolio_daily_returns.fillna(0)).cumprod() "
   ]
  },
  {
   "cell_type": "code",
   "execution_count": 32,
   "metadata": {},
   "outputs": [
    {
     "data": {
      "text/html": [
       "<div>\n",
       "<style scoped>\n",
       "    .dataframe tbody tr th:only-of-type {\n",
       "        vertical-align: middle;\n",
       "    }\n",
       "\n",
       "    .dataframe tbody tr th {\n",
       "        vertical-align: top;\n",
       "    }\n",
       "\n",
       "    .dataframe thead th {\n",
       "        text-align: right;\n",
       "    }\n",
       "</style>\n",
       "<table border=\"1\" class=\"dataframe\">\n",
       "  <thead>\n",
       "    <tr style=\"text-align: right;\">\n",
       "      <th></th>\n",
       "      <th>0</th>\n",
       "      <th>1</th>\n",
       "      <th>2</th>\n",
       "      <th>3</th>\n",
       "      <th>4</th>\n",
       "      <th>5</th>\n",
       "      <th>6</th>\n",
       "      <th>7</th>\n",
       "      <th>8</th>\n",
       "      <th>9</th>\n",
       "      <th>...</th>\n",
       "      <th>90</th>\n",
       "      <th>91</th>\n",
       "      <th>92</th>\n",
       "      <th>93</th>\n",
       "      <th>94</th>\n",
       "      <th>95</th>\n",
       "      <th>96</th>\n",
       "      <th>97</th>\n",
       "      <th>98</th>\n",
       "      <th>99</th>\n",
       "    </tr>\n",
       "  </thead>\n",
       "  <tbody>\n",
       "    <tr>\n",
       "      <th>0</th>\n",
       "      <td>1.000000</td>\n",
       "      <td>1.000000</td>\n",
       "      <td>1.000000</td>\n",
       "      <td>1.000000</td>\n",
       "      <td>1.000000</td>\n",
       "      <td>1.000000</td>\n",
       "      <td>1.000000</td>\n",
       "      <td>1.000000</td>\n",
       "      <td>1.000000</td>\n",
       "      <td>1.000000</td>\n",
       "      <td>...</td>\n",
       "      <td>1.000000</td>\n",
       "      <td>1.000000</td>\n",
       "      <td>1.000000</td>\n",
       "      <td>1.000000</td>\n",
       "      <td>1.000000</td>\n",
       "      <td>1.000000</td>\n",
       "      <td>1.000000</td>\n",
       "      <td>1.000000</td>\n",
       "      <td>1.000000</td>\n",
       "      <td>1.000000</td>\n",
       "    </tr>\n",
       "    <tr>\n",
       "      <th>1</th>\n",
       "      <td>1.000476</td>\n",
       "      <td>0.997880</td>\n",
       "      <td>0.999075</td>\n",
       "      <td>0.991352</td>\n",
       "      <td>0.991086</td>\n",
       "      <td>1.014863</td>\n",
       "      <td>0.997323</td>\n",
       "      <td>0.994245</td>\n",
       "      <td>0.986426</td>\n",
       "      <td>0.999467</td>\n",
       "      <td>...</td>\n",
       "      <td>1.005394</td>\n",
       "      <td>1.001639</td>\n",
       "      <td>0.999261</td>\n",
       "      <td>0.996445</td>\n",
       "      <td>1.005226</td>\n",
       "      <td>0.997743</td>\n",
       "      <td>1.003976</td>\n",
       "      <td>1.004226</td>\n",
       "      <td>1.001111</td>\n",
       "      <td>1.004769</td>\n",
       "    </tr>\n",
       "    <tr>\n",
       "      <th>2</th>\n",
       "      <td>1.008876</td>\n",
       "      <td>0.994048</td>\n",
       "      <td>1.001810</td>\n",
       "      <td>0.991420</td>\n",
       "      <td>0.986552</td>\n",
       "      <td>1.014401</td>\n",
       "      <td>1.000291</td>\n",
       "      <td>1.004861</td>\n",
       "      <td>0.990886</td>\n",
       "      <td>1.003586</td>\n",
       "      <td>...</td>\n",
       "      <td>0.996711</td>\n",
       "      <td>1.006145</td>\n",
       "      <td>1.001694</td>\n",
       "      <td>0.997198</td>\n",
       "      <td>1.002921</td>\n",
       "      <td>0.998864</td>\n",
       "      <td>0.998407</td>\n",
       "      <td>1.006465</td>\n",
       "      <td>0.996208</td>\n",
       "      <td>1.008757</td>\n",
       "    </tr>\n",
       "    <tr>\n",
       "      <th>3</th>\n",
       "      <td>1.008286</td>\n",
       "      <td>0.990918</td>\n",
       "      <td>1.001019</td>\n",
       "      <td>0.996312</td>\n",
       "      <td>0.988585</td>\n",
       "      <td>1.018200</td>\n",
       "      <td>1.000736</td>\n",
       "      <td>0.999645</td>\n",
       "      <td>0.990987</td>\n",
       "      <td>1.012585</td>\n",
       "      <td>...</td>\n",
       "      <td>0.998232</td>\n",
       "      <td>1.007330</td>\n",
       "      <td>1.007635</td>\n",
       "      <td>0.994463</td>\n",
       "      <td>1.003288</td>\n",
       "      <td>0.995496</td>\n",
       "      <td>1.004124</td>\n",
       "      <td>1.002999</td>\n",
       "      <td>1.004500</td>\n",
       "      <td>1.004422</td>\n",
       "    </tr>\n",
       "    <tr>\n",
       "      <th>4</th>\n",
       "      <td>1.013963</td>\n",
       "      <td>0.991611</td>\n",
       "      <td>1.004111</td>\n",
       "      <td>1.004833</td>\n",
       "      <td>0.984340</td>\n",
       "      <td>1.022178</td>\n",
       "      <td>0.996273</td>\n",
       "      <td>1.009584</td>\n",
       "      <td>0.988468</td>\n",
       "      <td>1.008922</td>\n",
       "      <td>...</td>\n",
       "      <td>1.002636</td>\n",
       "      <td>1.008249</td>\n",
       "      <td>1.018017</td>\n",
       "      <td>0.995863</td>\n",
       "      <td>1.008363</td>\n",
       "      <td>1.002826</td>\n",
       "      <td>0.998479</td>\n",
       "      <td>1.001615</td>\n",
       "      <td>1.009096</td>\n",
       "      <td>1.003590</td>\n",
       "    </tr>\n",
       "  </tbody>\n",
       "</table>\n",
       "<p>5 rows × 100 columns</p>\n",
       "</div>"
      ],
      "text/plain": [
       "         0         1         2         3         4         5         6   \\\n",
       "0  1.000000  1.000000  1.000000  1.000000  1.000000  1.000000  1.000000   \n",
       "1  1.000476  0.997880  0.999075  0.991352  0.991086  1.014863  0.997323   \n",
       "2  1.008876  0.994048  1.001810  0.991420  0.986552  1.014401  1.000291   \n",
       "3  1.008286  0.990918  1.001019  0.996312  0.988585  1.018200  1.000736   \n",
       "4  1.013963  0.991611  1.004111  1.004833  0.984340  1.022178  0.996273   \n",
       "\n",
       "         7         8         9   ...        90        91        92        93  \\\n",
       "0  1.000000  1.000000  1.000000  ...  1.000000  1.000000  1.000000  1.000000   \n",
       "1  0.994245  0.986426  0.999467  ...  1.005394  1.001639  0.999261  0.996445   \n",
       "2  1.004861  0.990886  1.003586  ...  0.996711  1.006145  1.001694  0.997198   \n",
       "3  0.999645  0.990987  1.012585  ...  0.998232  1.007330  1.007635  0.994463   \n",
       "4  1.009584  0.988468  1.008922  ...  1.002636  1.008249  1.018017  0.995863   \n",
       "\n",
       "         94        95        96        97        98        99  \n",
       "0  1.000000  1.000000  1.000000  1.000000  1.000000  1.000000  \n",
       "1  1.005226  0.997743  1.003976  1.004226  1.001111  1.004769  \n",
       "2  1.002921  0.998864  0.998407  1.006465  0.996208  1.008757  \n",
       "3  1.003288  0.995496  1.004124  1.002999  1.004500  1.004422  \n",
       "4  1.008363  1.002826  0.998479  1.001615  1.009096  1.003590  \n",
       "\n",
       "[5 rows x 100 columns]"
      ]
     },
     "execution_count": 32,
     "metadata": {},
     "output_type": "execute_result"
    }
   ],
   "source": [
    "# Check that the simulation ran successfully\n",
    "cumulative_portfolio_returns.head()"
   ]
  },
  {
   "cell_type": "code",
   "execution_count": 33,
   "metadata": {},
   "outputs": [
    {
     "data": {
      "text/plain": [
       "Text(0.5, 0, 'Simulations')"
      ]
     },
     "execution_count": 33,
     "metadata": {},
     "output_type": "execute_result"
    },
    {
     "data": {
      "image/png": "[encoded data removed]",
      "text/plain": [
       "<Figure size 432x288 with 1 Axes>"
      ]
     },
     "metadata": {
      "needs_background": "light"
     },
     "output_type": "display_data"
    }
   ],
   "source": [
    "# Visualize the Simulation\n",
    "plot_title = f\"{sim + 1} Simulations of Cumulative Portfolio Returns Over 30 Years of Trading Days\"\n",
    "ax= cumulative_portfolio_returns.plot(title=plot_title, legend=None)\n",
    "ax.set_xlabel(\"Simulations\")"
   ]
  },
  {
   "cell_type": "code",
   "execution_count": 24,
   "metadata": {},
   "outputs": [
    {
     "data": {
      "text/plain": [
       "0    1.222232\n",
       "1    1.275656\n",
       "2    1.333686\n",
       "3    1.287483\n",
       "4    1.250288\n",
       "Name: 252, dtype: float64"
      ]
     },
     "execution_count": 24,
     "metadata": {},
     "output_type": "execute_result"
    }
   ],
   "source": [
    "# Select the last row for the cumulative returns (cumulative returns at 20 years)\n",
    "final_cumulative_returns = cumulative_portfolio_returns.iloc[-1,:]\n",
    "final_cumulative_returns.head()"
   ]
  },
  {
   "cell_type": "code",
   "execution_count": 30,
   "metadata": {},
   "outputs": [
    {
     "data": {
      "text/plain": [
       "0.05    1.059040\n",
       "0.95    1.333875\n",
       "Name: 252, dtype: float64"
      ]
     },
     "execution_count": 30,
     "metadata": {},
     "output_type": "execute_result"
    }
   ],
   "source": [
    "# Display the 90% confidence interval for the ending returns\n",
    "confidence_interval = final_cumulative_returns.quantile(q=[0.05, 0.95])\n",
    "confidence_interval"
   ]
  },
  {
   "cell_type": "code",
   "execution_count": 31,
   "metadata": {},
   "outputs": [
    {
     "data": {
      "text/plain": [
       "<matplotlib.lines.Line2D at 0x285cee99048>"
      ]
     },
     "execution_count": 31,
     "metadata": {},
     "output_type": "execute_result"
    },
    {
     "data": {
      "image/png": "[encoded data removed]",
      "text/plain": [
       "<Figure size 432x288 with 1 Axes>"
      ]
     },
     "metadata": {
      "needs_background": "light"
     },
     "output_type": "display_data"
    }
   ],
   "source": [
    "# Visualize the distribution of the ending returns\n",
    "plt.figure();\n",
    "final_cumulative_returns.plot(kind='hist', density=True)\n",
    "plt.axvline(confidence_interval.iloc[0], color='r')\n",
    "plt.axvline(confidence_interval.iloc[1], color='r')"
   ]
  },
  {
   "cell_type": "markdown",
   "metadata": {},
   "source": [
    "---"
   ]
  },
  {
   "cell_type": "markdown",
   "metadata": {},
   "source": [
    "## Retirement Analysis\n",
    "\n",
    "In this section, you will use the monte carlo model to answer the following retirement planning questions:\n",
    "\n",
    "1. What are the expected cumulative returns at `30` years for the `10th`, `50th`, and `90th` percentiles?\n",
    "\n",
    "2. Given an initial investment of `$20,000`, what is the expected return in dollars at the `10th`, `50th`, and `90th` percentiles?\n",
    "\n",
    "3. Given the current projected annual income from the Plaid analysis, will a `4%` withdrawal rate meet or exceed that value at the `10th` percentile? Note: This is basically determining if retirement income is equivalent to current income.\n",
    "\n",
    "4. How would a `50%` increase in the initial investment amount affect the `4%` retirement withdrawal? In other words, what happens if the initial investment had been bigger?"
   ]
  },
  {
   "cell_type": "markdown",
   "metadata": {},
   "source": [
    "### What are the expected cumulative returns at 30 years for the 10th, 50th, and 90th percentiles?"
   ]
  },
  {
   "cell_type": "code",
   "execution_count": 34,
   "metadata": {},
   "outputs": [
    {
     "data": {
      "text/plain": [
       "0.1    1.083975\n",
       "0.5    1.187794\n",
       "0.9    1.297434\n",
       "Name: 252, dtype: float64"
      ]
     },
     "execution_count": 34,
     "metadata": {},
     "output_type": "execute_result"
    }
   ],
   "source": [
    "# Compute cumulative returns\n",
    "confidence_interval_b = final_cumulative_returns.quantile(q=[0.10, 0.50, 0.90])\n",
    "confidence_interval_b"
   ]
  },
  {
   "cell_type": "markdown",
   "metadata": {},
   "source": [
    "### Given an initial investment of `$20,000`, what is the expected portfolio return in dollars at the 10th, 50th, and 90th percentiles?"
   ]
  },
  {
   "cell_type": "code",
   "execution_count": 57,
   "metadata": {},
   "outputs": [
    {
     "name": "stdout",
     "output_type": "stream",
     "text": [
      "10th Percentile: $41679.5\n",
      "50th Percentile: $43755.89\n",
      "90th Percentile: $45948.68\n"
     ]
    }
   ],
   "source": [
    "# Set initial investment\n",
    "initial_investment = 20000\n",
    "# Compute expected portfolio return\n",
    "investment_pnl_lower = round(initial_investment + (initial_investment * confidence_interval_b.iloc[0]),2)\n",
    "investment_pnl_middle = round(initial_investment + (initial_investment * confidence_interval_b.iloc[1]),2)\n",
    "investment_pnl_upper = round(initial_investment + (initial_investment * confidence_interval_b.iloc[2]), 2)\n",
    "\n",
    "print(f'10th Percentile: ${investment_pnl_lower}\\n50th Percentile: ${investment_pnl_middle}\\n90th Percentile: ${investment_pnl_upper}')"
   ]
  },
  {
   "cell_type": "markdown",
   "metadata": {},
   "source": [
    "### Given the current projected annual income from the Plaid analysis, will a 4% withdraw rate from the retirement portfolio meet or exceed that value at the 10th percentile?\n",
    "\n",
    "Note: This is effectively saying that 90% of the expected returns will be greater than the return at the 10th percentile, so this can help measure the uncertainty about having enough funds at retirement"
   ]
  },
  {
   "cell_type": "code",
   "execution_count": 61,
   "metadata": {},
   "outputs": [
    {
     "name": "stdout",
     "output_type": "stream",
     "text": [
      "I'm sorry but your 4% retirement withdrawal of $1667.18 is below your projected yearly income of $7389.\n"
     ]
    }
   ],
   "source": [
    "# Set Plaid's projected income\n",
    "plaid_projected_income = 7389\n",
    "# Calculate the 4% withdrawal for the ending return as retirement income\n",
    "four_percent_withdrawal = round(investment_pnl_lower * 0.04, 2)\n",
    "# Determine if the retirement income meets or exceeds the current projected income\n",
    "if four_percent_withdrawal == plaid_projected_income:\n",
    "    print(f\"Your 4% retirement withdrawal of ${four_percent_withdrawal} is equal to your projected yearly income of ${plaid_projected_income}.\")\n",
    "elif four_percent_withdrawal > plaid_projected_income:\n",
    "    print(f\"Your 4% retirement withdrawal of ${four_percent_withdrawal} exceeds your projected yearly income of ${plaid_projected_income}!\")\n",
    "else:\n",
    "   print(f\"I'm sorry but your 4% retirement withdrawal of ${four_percent_withdrawal} is below your projected yearly income of ${plaid_projected_income}.\")"
   ]
  },
  {
   "cell_type": "markdown",
   "metadata": {},
   "source": [
    "### How would a 50% increase in the initial investment amount affect the 4% retirement withdrawal?"
   ]
  },
  {
   "cell_type": "code",
   "execution_count": 63,
   "metadata": {},
   "outputs": [
    {
     "name": "stdout",
     "output_type": "stream",
     "text": [
      "I'm sorry but your 4% retirement withdrawal of $2500.77 is below your projected yearly income of $7389.\n"
     ]
    }
   ],
   "source": [
    "# Re-calculate the retirement income with a 50% increase in the initial investment amount\n",
    "# Set initial investment\n",
    "increased_initial_investment = 30000\n",
    "\n",
    "# Compute expected portfolio return\n",
    "increased_investment_pnl_lower = round(increased_initial_investment + (increased_initial_investment * confidence_interval_b.iloc[0]),2)\n",
    "increased_investment_pnl_middle = round(increased_initial_investment + (increased_initial_investment * confidence_interval_b.iloc[1]),2)\n",
    "increased_investment_pnl_upper = round(increased_initial_investment + (increased_initial_investment * confidence_interval_b.iloc[2]), 2)\n",
    "\n",
    "# Set Plaid's projected income\n",
    "plaid_projected_income = 7389\n",
    "# Calculate the 4% withdrawal for the ending return as retirement income\n",
    "four_percent_withdrawal_increased = round(increased_investment_pnl_lower * 0.04, 2)\n",
    "\n",
    "# Determine if the retirement income meets or exceeds the current projected income\n",
    "if four_percent_withdrawal == plaid_projected_income:\n",
    "    print(f\"Your 4% retirement withdrawal of ${four_percent_withdrawal_increased} is equal to your projected yearly income of ${plaid_projected_income}.\")\n",
    "elif four_percent_withdrawal > plaid_projected_income:\n",
    "    print(f\"Your 4% retirement withdrawal of ${four_percent_withdrawal_increased} exceeds your projected yearly income of ${plaid_projected_income}!\")\n",
    "else:\n",
    "   print(f\"I'm sorry but your 4% retirement withdrawal of ${four_percent_withdrawal_increased} is below your projected yearly income of ${plaid_projected_income}.\")"
   ]
  },
  {
   "cell_type": "markdown",
   "metadata": {},
   "source": [
    "### Optional Challenge\n",
    "\n",
    "Use the Monte Carlo data and calculate the cumulative returns at the `5%`, `50%`, and `95%` quartiles and plot this data as a line chart to see how the cumulative returns change over the life of the investment.\n",
    "\n",
    "In this section, you need to calculate and plot the cumulative returns for the median and `90%` confidence intervals. This plot shows the expected cumulative returns for any given day between the first day and the last day of investment. "
   ]
  },
  {
   "cell_type": "code",
   "execution_count": null,
   "metadata": {},
   "outputs": [],
   "source": [
    "# Compute projected returns\n",
    "\n",
    "# Display sample data\n"
   ]
  },
  {
   "cell_type": "code",
   "execution_count": null,
   "metadata": {},
   "outputs": [],
   "source": [
    "# Plot the cumulative returns over time\n"
   ]
  },
  {
   "cell_type": "code",
   "execution_count": null,
   "metadata": {},
   "outputs": [],
   "source": [
    "# Compute portfolio performance over time\n",
    "\n",
    "# Plot projected performance over time\n"
   ]
  }
 ],
 "metadata": {
  "kernelspec": {
   "display_name": "Python 3",
   "language": "python",
   "name": "python3"
  },
  "language_info": {
   "codemirror_mode": {
    "name": "ipython",
    "version": 3
   },
   "file_extension": ".py",
   "mimetype": "text/x-python",
   "name": "python",
   "nbconvert_exporter": "python",
   "pygments_lexer": "ipython3",
   "version": "3.7.7"
  }
 },
 "nbformat": 4,
 "nbformat_minor": 4
}
